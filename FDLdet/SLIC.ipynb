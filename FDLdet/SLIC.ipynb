{
 "cells": [
  {
   "cell_type": "code",
   "execution_count": null,
   "id": "a1d50843",
   "metadata": {},
   "outputs": [],
   "source": [
    "import os\n",
    "import numpy as np\n",
    "from skimage.segmentation import slic,felzenszwalb\n",
    "import matplotlib.pyplot as plt\n",
    "from skimage.segmentation import mark_boundaries\n",
    "from tqdm import tqdm_notebook as tqdm\n",
    "from PIL import Image"
   ]
  },
  {
   "cell_type": "code",
   "execution_count": null,
   "id": "24eabec9",
   "metadata": {},
   "outputs": [],
   "source": [
    "# Source_path = '/home/amax/yyq/Dataset/SYSU-CD/'\n",
    "Source_path = '/home/yang/yyq/Dataset/LEVIR-CD-crop/'\n",
    "\n",
    "# data_list = ['train/','val/','test/']\n",
    "data_list = ['test/']\n",
    "use_list = ['A/','B/']\n",
    "# use_list = ['A/,'B/']\n",
    "\n",
    "generate_root = 'SLIC_DATA_LEVIR/'\n",
    "\n",
    "resize_size = (128,128)\n",
    "segment_num = 200"
   ]
  },
  {
   "cell_type": "code",
   "execution_count": null,
   "id": "d381b5b0",
   "metadata": {},
   "outputs": [],
   "source": [
    "for name in tqdm(data_list):\n",
    "    if not os.path.exists(generate_root+name):\n",
    "        os.mkdir(generate_root+name)\n",
    "    for use in use_list:\n",
    "        if not os.path.exists(generate_root+name+use):\n",
    "            os.mkdir(generate_root+name+use)\n",
    "        target_path = generate_root+name+use            \n",
    "        image_path = Source_path+name+use\n",
    "        images = os.listdir(image_path)\n",
    "        for image_name in tqdm(images):\n",
    "            if not os.path.exists(target_path+image_name.split('.')[0]+'.npy'):\n",
    "                img = plt.imread(image_path+image_name)\n",
    "                segmentaton = slic(img,n_segments=segment_num,compactness=10)\n",
    "                segmentaton = Image.fromarray((segmentaton/np.max(segmentaton)*255).astype(np.uint8))\n",
    "                segmentaton = np.array(segmentaton.resize(size=resize_size,resample=Image.NEAREST))\n",
    "                np.save(target_path+image_name.split('.')[0]+'.npy',segmentaton)"
   ]
  },
  {
   "cell_type": "code",
   "execution_count": null,
   "id": "ed235f88",
   "metadata": {},
   "outputs": [],
   "source": []
  }
 ],
 "metadata": {
  "kernelspec": {
   "display_name": "Python 3 (ipykernel)",
   "language": "python",
   "name": "python3"
  },
  "language_info": {
   "codemirror_mode": {
    "name": "ipython",
    "version": 3
   },
   "file_extension": ".py",
   "mimetype": "text/x-python",
   "name": "python",
   "nbconvert_exporter": "python",
   "pygments_lexer": "ipython3",
   "version": "3.10.9"
  }
 },
 "nbformat": 4,
 "nbformat_minor": 5
}
